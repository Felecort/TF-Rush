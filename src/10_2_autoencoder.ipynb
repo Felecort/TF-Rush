{
  "nbformat": 4,
  "nbformat_minor": 0,
  "metadata": {
    "colab": {
      "name": "10.2_autoencoder",
      "provenance": [],
      "collapsed_sections": [],
      "authorship_tag": "ABX9TyNBm1r+lNlru+NBwjt7Cd6D",
      "include_colab_link": true
    },
    "kernelspec": {
      "name": "python3",
      "display_name": "Python 3"
    },
    "language_info": {
      "name": "python"
    },
    "accelerator": "GPU",
    "gpuClass": "standard"
  },
  "cells": [
    {
      "cell_type": "markdown",
      "metadata": {
        "id": "view-in-github",
        "colab_type": "text"
      },
      "source": [
        "<a href=\"https://colab.research.google.com/github/Felecort/TF-Rush/blob/master/src/10_2_autoencoder.ipynb\" target=\"_parent\"><img src=\"https://colab.research.google.com/assets/colab-badge.svg\" alt=\"Open In Colab\"/></a>"
      ]
    },
    {
      "cell_type": "code",
      "execution_count": 12,
      "metadata": {
        "colab": {
          "base_uri": "https://localhost:8080/",
          "height": 35
        },
        "id": "DX3nW5o3XuYI",
        "outputId": "fd638f18-6da0-43c9-ef04-61add419d2a3"
      },
      "outputs": [
        {
          "output_type": "execute_result",
          "data": {
            "text/plain": [
              "'2.8.2'"
            ],
            "application/vnd.google.colaboratory.intrinsic+json": {
              "type": "string"
            }
          },
          "metadata": {},
          "execution_count": 12
        }
      ],
      "source": [
        "%tensorflow_version 2.x\n",
        "from tensorflow import keras\n",
        "from tensorflow.keras.datasets import cifar10, mnist\n",
        "from tensorflow.keras.utils import to_categorical\n",
        "from tensorflow.keras import layers\n",
        "import tensorflow as tf\n",
        "import matplotlib.pyplot as plt\n",
        "import numpy as np\n",
        "tf.__version__\n"
      ]
    },
    {
      "cell_type": "markdown",
      "source": [
        "# Encoder structure"
      ],
      "metadata": {
        "id": "pAm3faNQYPXv"
      }
    },
    {
      "cell_type": "code",
      "source": [
        "enc_input = keras.Input(shape=(28, 28, 1))\n",
        "x = layers.Conv2D(32, 3, activation=\"relu\")(enc_input)\n",
        "x = layers.MaxPooling2D(2, padding=\"same\")(x)\n",
        "x = layers.Conv2D(64, 3, activation=\"relu\")(x)\n",
        "x = layers.MaxPooling2D(2, padding=\"same\")(x)\n",
        "x = layers.Flatten()(x)\n",
        "enc_output = layers.Dense(8, activation=\"linear\")(x)\n"
      ],
      "metadata": {
        "id": "v4nbqnWSXyEw"
      },
      "execution_count": 13,
      "outputs": []
    },
    {
      "cell_type": "code",
      "source": [
        "encoder = keras.Model(enc_input, enc_output, name=\"encoder\")\n"
      ],
      "metadata": {
        "id": "8CMT7wACYYpR"
      },
      "execution_count": 14,
      "outputs": []
    },
    {
      "cell_type": "markdown",
      "source": [
        "# Decoder structure"
      ],
      "metadata": {
        "id": "DrE80yunZpWn"
      }
    },
    {
      "cell_type": "code",
      "source": [
        "dec_input = keras.Input(shape=(8, ), name=\"encoded_img\")\n",
        "x = layers.Dense(7 * 7 * 8, activation=\"relu\")(dec_input)\n",
        "x = keras.layers.Reshape((7, 7, 8))(x)\n",
        "x = layers.Conv2DTranspose(64, 5, strides=(2, 2), activation=\"relu\", padding=\"same\")(x)\n",
        "x = layers.BatchNormalization()(x)\n",
        "x = layers.Conv2DTranspose(32, 5, strides=(2, 2), activation=\"linear\", padding=\"same\")(x)\n",
        "x = layers.BatchNormalization()(x)\n",
        "dec_output = layers.Conv2DTranspose(1, 3, activation=\"sigmoid\", padding=\"same\")(x)\n"
      ],
      "metadata": {
        "id": "rpgo6w_MYjPD"
      },
      "execution_count": 15,
      "outputs": []
    },
    {
      "cell_type": "code",
      "source": [
        "decoder = keras.Model(dec_input, dec_output, name=\"decoder\")\n"
      ],
      "metadata": {
        "id": "qmch0rpsZo3k"
      },
      "execution_count": 16,
      "outputs": []
    },
    {
      "cell_type": "markdown",
      "source": [
        "# Load data"
      ],
      "metadata": {
        "id": "TD8vnGo3aQEd"
      }
    },
    {
      "cell_type": "code",
      "source": [
        "(x_train, y_train), (x_test, y_test) = mnist.load_data()\n",
        "\n",
        "x_train = x_train.astype(\"float32\") / 255\n",
        "x_test = x_test.astype(\"float32\") / 255\n",
        "\n",
        "y_train = to_categorical(y_train, 10)\n",
        "y_test = to_categorical(y_test, 10)\n"
      ],
      "metadata": {
        "id": "hR92SgnMZ0rj"
      },
      "execution_count": 17,
      "outputs": []
    },
    {
      "cell_type": "markdown",
      "source": [
        "# Create model"
      ],
      "metadata": {
        "id": "BS9A2OCCbZue"
      }
    },
    {
      "cell_type": "code",
      "source": [
        "autoencoder_input = keras.Input(shape=(28, 28, 1), name=\"img\")\n",
        "x = encoder(autoencoder_input)\n",
        "autoencoder_output = decoder(x)\n",
        "\n",
        "autoencodet = keras.Model(autoencoder_input,  autoencoder_output, name=\"autoenoder\")\n"
      ],
      "metadata": {
        "id": "d-WOPYE7aSMH"
      },
      "execution_count": 18,
      "outputs": []
    },
    {
      "cell_type": "markdown",
      "source": [
        "# Train model"
      ],
      "metadata": {
        "id": "_PG9YzPgbb7Z"
      }
    },
    {
      "cell_type": "code",
      "source": [
        "autoencodet.compile(optimizer=\"adam\",\n",
        "                    loss=\"categorical_crossentropy\",\n",
        "                    metrics=\"accuracy\")"
      ],
      "metadata": {
        "id": "_wJjqLPXbtkd"
      },
      "execution_count": 19,
      "outputs": []
    },
    {
      "cell_type": "code",
      "source": [
        "autoencodet.fit(x_train, x_train, batch_size=32, epochs=1)\n"
      ],
      "metadata": {
        "colab": {
          "base_uri": "https://localhost:8080/"
        },
        "id": "V3s3OrYHbbZz",
        "outputId": "1a3178e6-0852-4b86-a6f3-f7e5e6a9ce7f"
      },
      "execution_count": 20,
      "outputs": [
        {
          "output_type": "stream",
          "name": "stdout",
          "text": [
            "1875/1875 [==============================] - 9s 5ms/step - loss: 8.6214 - accuracy: 0.6503\n"
          ]
        },
        {
          "output_type": "execute_result",
          "data": {
            "text/plain": [
              "<keras.callbacks.History at 0x7f166e6d0110>"
            ]
          },
          "metadata": {},
          "execution_count": 20
        }
      ]
    },
    {
      "cell_type": "code",
      "source": [
        "h = encoder.predict(tf.expand_dims(x_test[0], axis=0))\n",
        "img = decoder.predict(h)\n"
      ],
      "metadata": {
        "id": "9-sL5id_bpK8"
      },
      "execution_count": 21,
      "outputs": []
    },
    {
      "cell_type": "code",
      "source": [
        "plt.subplot(121)\n",
        "plt.imshow(x_test[0], cmap=\"gray\")\n",
        "plt.subplot(233)\n",
        "plt.imshow(img.squeeze(), cmap=\"gray\")\n"
      ],
      "metadata": {
        "colab": {
          "base_uri": "https://localhost:8080/",
          "height": 252
        },
        "id": "Il-KdQkFcTk4",
        "outputId": "fa865567-9302-437d-f65b-9526ecbcdc8b"
      },
      "execution_count": 24,
      "outputs": [
        {
          "output_type": "execute_result",
          "data": {
            "text/plain": [
              "<matplotlib.image.AxesImage at 0x7f160c27ebd0>"
            ]
          },
          "metadata": {},
          "execution_count": 24
        },
        {
          "output_type": "display_data",
          "data": {
            "text/plain": [
              "<Figure size 432x288 with 2 Axes>"
            ],
            "image/png": "[encoded data removed]"
          },
          "metadata": {
            "needs_background": "light"
          }
        }
      ]
    },
    {
      "cell_type": "code",
      "source": [
        ""
      ],
      "metadata": {
        "id": "xEddhi1Lcc3G"
      },
      "execution_count": null,
      "outputs": []
    }
  ]
}