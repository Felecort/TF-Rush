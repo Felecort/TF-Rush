{
  "nbformat": 4,
  "nbformat_minor": 0,
  "metadata": {
    "colab": {
      "name": "6.2_MNIST",
      "provenance": [],
      "collapsed_sections": [],
      "authorship_tag": "ABX9TyPhsy5cJ8kvBxZpSoitKsGU"
    },
    "kernelspec": {
      "name": "python3",
      "display_name": "Python 3"
    },
    "language_info": {
      "name": "python"
    },
    "accelerator": "GPU",
    "gpuClass": "standard"
  },
  "cells": [
    {
      "cell_type": "code",
      "execution_count": null,
      "metadata": {
        "colab": {
          "base_uri": "https://localhost:8080/",
          "height": 35
        },
        "id": "5UGYW2MADfJx",
        "outputId": "01a06889-aab3-4247-cf7a-112bb63cf5a9"
      },
      "outputs": [
        {
          "output_type": "execute_result",
          "data": {
            "text/plain": [
              "'2.8.2'"
            ],
            "application/vnd.google.colaboratory.intrinsic+json": {
              "type": "string"
            }
          },
          "metadata": {},
          "execution_count": 29
        }
      ],
      "source": [
        "%tensorflow_version 2.x\n",
        "import tensorflow as tf\n",
        "import matplotlib.pyplot as plt\n",
        "import numpy as np\n",
        "tf.__version__"
      ]
    },
    {
      "cell_type": "markdown",
      "source": [
        "# Load dataset"
      ],
      "metadata": {
        "id": "tydSXT_1TWcV"
      }
    },
    {
      "cell_type": "code",
      "source": [
        "from tensorflow.keras.datasets import mnist\n",
        "from tensorflow.keras.utils import to_categorical"
      ],
      "metadata": {
        "id": "5pFIM9ubDkDj"
      },
      "execution_count": null,
      "outputs": []
    },
    {
      "cell_type": "code",
      "source": [
        "(x_train, y_train), (x_test, y_test) = mnist.load_data()"
      ],
      "metadata": {
        "id": "5AgLUv-_R5s6"
      },
      "execution_count": null,
      "outputs": []
    },
    {
      "cell_type": "code",
      "source": [
        "x_train = x_train / 255\n",
        "x_test = x_test / 255"
      ],
      "metadata": {
        "id": "FZNQyGmOSRDD"
      },
      "execution_count": null,
      "outputs": []
    },
    {
      "cell_type": "code",
      "source": [
        "x_train = tf.reshape(tf.cast(x_train, tf.float32), [-1, 28 * 28])\n",
        "x_test = tf.reshape(tf.cast(x_test, tf.float32), [-1, 28 * 28])"
      ],
      "metadata": {
        "id": "rqMrUnQASgOX"
      },
      "execution_count": null,
      "outputs": []
    },
    {
      "cell_type": "code",
      "source": [
        "y_train = to_categorical(y_train, 10)"
      ],
      "metadata": {
        "id": "ENIrRK9XSzZT"
      },
      "execution_count": null,
      "outputs": []
    },
    {
      "cell_type": "markdown",
      "source": [
        "# Create NN class"
      ],
      "metadata": {
        "id": "CWXMlyfPTYA3"
      }
    },
    {
      "cell_type": "code",
      "source": [
        "class DenseNN(tf.Module):\n",
        "    def __init__(self, outputs, activate=\"relu\"):\n",
        "        super().__init__()\n",
        "\n",
        "        self.outputs = outputs\n",
        "        self.fl_init = False\n",
        "        self.activate = activate\n",
        "\n",
        "    def __call__(self, x):\n",
        "        if not self.fl_init:\n",
        "            self.w = tf.random.truncated_normal((x.shape[-1], self.outputs),\n",
        "                                                stddev=0.1, name=\"w\")\n",
        "            self.b = tf.zeros([self.outputs], dtype=tf.float32, name=\"b\")\n",
        "\n",
        "            self.w = tf.Variable(self.w)\n",
        "            # We can make b untrainable (..., trainable=False)\n",
        "            self.b = tf.Variable(self.b)\n",
        "\n",
        "            self.fl_init = True\n",
        "        \n",
        "        y = x @ self.w + self.b\n",
        "\n",
        "        if self.activate == \"relu\":\n",
        "            return tf.nn.relu(y)\n",
        "        elif self.activate == \"softmax\":\n",
        "            return tf.nn.softmax(y)\n"
      ],
      "metadata": {
        "id": "9tlSKwudS0BE"
      },
      "execution_count": null,
      "outputs": []
    },
    {
      "cell_type": "markdown",
      "source": [
        "# Create Model class"
      ],
      "metadata": {
        "id": "hFpdqp_Vf4kA"
      }
    },
    {
      "cell_type": "code",
      "source": [
        "class SequentinalModule(tf.Module):\n",
        "    def __init__(self):\n",
        "        super().__init__()\n",
        "        self.layer_1 = DenseNN(128)\n",
        "        self.layer_2 = DenseNN(10, activate=\"softmax\")\n",
        "\n",
        "    def __call__(self, x):\n",
        "        return self.layer_2(self.layer_1(x))\n",
        "\n",
        "\"\"\"\n",
        "Equal to\n",
        "\n",
        "layer_1 = DenseNN(128)\n",
        "layer_2 = DenseNN(10, activate=\"softmax\")\n",
        "\n",
        "def model_predict(x):\n",
        "    y = layer_1(x)\n",
        "    y = layer_2(y)\n",
        "    return y\n",
        "\"\"\""
      ],
      "metadata": {
        "id": "ui9FxgRvfYga",
        "colab": {
          "base_uri": "https://localhost:8080/",
          "height": 53
        },
        "outputId": "a560dcaa-0e1b-48ae-8059-e287bdff78d3"
      },
      "execution_count": null,
      "outputs": [
        {
          "output_type": "execute_result",
          "data": {
            "text/plain": [
              "'\\nEqual to\\n\\nlayer_1 = DenseNN(128)\\nlayer_2 = DenseNN(10, activate=\"softmax\")\\n\\ndef model_predict(x):\\n    y = layer_1(x)\\n    y = layer_2(y)\\n    return y\\n'"
            ],
            "application/vnd.google.colaboratory.intrinsic+json": {
              "type": "string"
            }
          },
          "metadata": {},
          "execution_count": 36
        }
      ]
    },
    {
      "cell_type": "markdown",
      "source": [
        "# Preparing data"
      ],
      "metadata": {
        "id": "Ggmsjr3wWLvt"
      }
    },
    {
      "cell_type": "markdown",
      "source": [
        "## Create model object"
      ],
      "metadata": {
        "id": "_a-qDr4_gbFn"
      }
    },
    {
      "cell_type": "code",
      "source": [
        "model = SequentinalModule()\n",
        "model.submodules"
      ],
      "metadata": {
        "colab": {
          "base_uri": "https://localhost:8080/"
        },
        "id": "mIRMb826gakZ",
        "outputId": "d6555eb7-7794-41f4-f38c-aefc4d86a3a1"
      },
      "execution_count": null,
      "outputs": [
        {
          "output_type": "execute_result",
          "data": {
            "text/plain": [
              "(<__main__.DenseNN at 0x7fd3fe3a9890>, <__main__.DenseNN at 0x7fd470347c50>)"
            ]
          },
          "metadata": {},
          "execution_count": 37
        }
      ]
    },
    {
      "cell_type": "markdown",
      "source": [
        "## Define loss func"
      ],
      "metadata": {
        "id": "wJwnpVucWVPT"
      }
    },
    {
      "cell_type": "code",
      "source": [
        "cross_entropy = lambda y_true, y_pred: tf.reduce_mean(tf.losses.categorical_crossentropy(y_true, y_pred))\n"
      ],
      "metadata": {
        "id": "6s_aHCAOUhm8"
      },
      "execution_count": null,
      "outputs": []
    },
    {
      "cell_type": "markdown",
      "source": [
        "## Create optimizer"
      ],
      "metadata": {
        "id": "xnZBVxN-WXmp"
      }
    },
    {
      "cell_type": "code",
      "source": [
        "opt = tf.optimizers.Adam(learning_rate=0.001)\n"
      ],
      "metadata": {
        "id": "eqvj4mTAVPqq"
      },
      "execution_count": null,
      "outputs": []
    },
    {
      "cell_type": "code",
      "source": [
        "BATCH_SIZE = 32\n",
        "EPOCHS = 10\n",
        "TOTAL = x_train.shape[0]\n"
      ],
      "metadata": {
        "id": "F-CjP6cPVVu7"
      },
      "execution_count": null,
      "outputs": []
    },
    {
      "cell_type": "markdown",
      "source": [
        "## Create batches"
      ],
      "metadata": {
        "id": "b4roY-NSWHzg"
      }
    },
    {
      "cell_type": "code",
      "source": [
        "train_dataset = tf.data.Dataset.from_tensor_slices((x_train, y_train))\n",
        "train_dataset = train_dataset.shuffle(buffer_size=1024).batch(BATCH_SIZE)"
      ],
      "metadata": {
        "id": "wkmSGJGBVmd7"
      },
      "execution_count": null,
      "outputs": []
    },
    {
      "cell_type": "markdown",
      "source": [
        "# Train model"
      ],
      "metadata": {
        "id": "n74l1JF9Wf5_"
      }
    },
    {
      "cell_type": "code",
      "source": [
        "loss = []\n",
        "for n in range(EPOCHS):\n",
        "    # Not neccessary, only for prints\n",
        "    \n",
        "    for x_batch, y_batch in train_dataset:\n",
        "        with tf.GradientTape() as tape:\n",
        "            # inspite of model_pred we use model\n",
        "            f_loss = cross_entropy(y_batch, model(x_batch))\n",
        "        \n",
        "        # Use model\n",
        "        grads = tape.gradient(f_loss, model.trainable_variables)\n",
        "        \n",
        "        # Inspite of ... we use model/ And only one code line\n",
        "        opt.apply_gradients(zip(grads, model.trainable_variables))\n",
        "        \n",
        "        loss.append(f_loss)\n",
        "    print(loss[n * 32])\n",
        "    \n",
        "    "
      ],
      "metadata": {
        "colab": {
          "base_uri": "https://localhost:8080/"
        },
        "id": "_er8pLXWWGGw",
        "outputId": "c1ba3a30-f370-4dba-a9ad-286562db55a4"
      },
      "execution_count": null,
      "outputs": [
        {
          "output_type": "stream",
          "name": "stdout",
          "text": [
            "tf.Tensor(2.4967842, shape=(), dtype=float32)\n",
            "tf.Tensor(1.081599, shape=(), dtype=float32)\n",
            "tf.Tensor(0.59277713, shape=(), dtype=float32)\n",
            "tf.Tensor(0.46853283, shape=(), dtype=float32)\n",
            "tf.Tensor(0.2738968, shape=(), dtype=float32)\n",
            "tf.Tensor(0.26129532, shape=(), dtype=float32)\n",
            "tf.Tensor(0.23243222, shape=(), dtype=float32)\n",
            "tf.Tensor(0.5377968, shape=(), dtype=float32)\n",
            "tf.Tensor(0.4494236, shape=(), dtype=float32)\n",
            "tf.Tensor(0.28427416, shape=(), dtype=float32)\n"
          ]
        }
      ]
    },
    {
      "cell_type": "code",
      "source": [
        "plt.plot(loss)"
      ],
      "metadata": {
        "colab": {
          "base_uri": "https://localhost:8080/",
          "height": 282
        },
        "id": "430LHr7NX_LP",
        "outputId": "7df2d8af-8d2c-40e2-822f-d0da8769aef3"
      },
      "execution_count": null,
      "outputs": [
        {
          "output_type": "execute_result",
          "data": {
            "text/plain": [
              "[<matplotlib.lines.Line2D at 0x7fd3fe322550>]"
            ]
          },
          "metadata": {},
          "execution_count": 43
        },
        {
          "output_type": "display_data",
          "data": {
            "text/plain": [
              "<Figure size 432x288 with 1 Axes>"
            ],
            "image/png": "[encoded data removed]"
          },
          "metadata": {
            "needs_background": "light"
          }
        }
      ]
    },
    {
      "cell_type": "markdown",
      "source": [
        "# Test"
      ],
      "metadata": {
        "id": "I4BzcwtyYJc-"
      }
    },
    {
      "cell_type": "markdown",
      "source": [
        "## Calculate accuracy without tf"
      ],
      "metadata": {
        "id": "4-h0cWDQYgEN"
      }
    },
    {
      "cell_type": "code",
      "source": [
        "y = model(x_test)\n",
        "y2 = tf.argmax(y, axis=1).numpy()\n",
        "acc = len(y_test[y_test == y2]) / y_test.shape[0] * 100\n",
        "print(acc)"
      ],
      "metadata": {
        "colab": {
          "base_uri": "https://localhost:8080/"
        },
        "id": "wTDIcEdqYIlX",
        "outputId": "e972f85c-e1f3-4823-c73c-9bd5de33ea87"
      },
      "execution_count": null,
      "outputs": [
        {
          "output_type": "stream",
          "name": "stdout",
          "text": [
            "97.61\n"
          ]
        }
      ]
    },
    {
      "cell_type": "markdown",
      "source": [
        "## Calculate accuracy with tf"
      ],
      "metadata": {
        "id": "1-0oZmz5YmJL"
      }
    },
    {
      "cell_type": "code",
      "source": [
        "acc = tf.metrics.Accuracy()\n",
        "acc.update_state(y_test, y2)\n",
        "print(acc.result().numpy() * 100)"
      ],
      "metadata": {
        "colab": {
          "base_uri": "https://localhost:8080/"
        },
        "id": "TIHQOTDSYqVA",
        "outputId": "a1668c4c-b29f-49a5-8d35-ba48cde1286d"
      },
      "execution_count": null,
      "outputs": [
        {
          "output_type": "stream",
          "name": "stdout",
          "text": [
            "97.61000275611877\n"
          ]
        }
      ]
    }
  ]
}