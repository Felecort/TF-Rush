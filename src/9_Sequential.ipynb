{
  "nbformat": 4,
  "nbformat_minor": 0,
  "metadata": {
    "colab": {
      "name": "9_Sequential",
      "provenance": [],
      "collapsed_sections": [],
      "authorship_tag": "ABX9TyN6q8wTaklrSOauCdAGkdqs",
      "include_colab_link": true
    },
    "kernelspec": {
      "name": "python3",
      "display_name": "Python 3"
    },
    "language_info": {
      "name": "python"
    },
    "accelerator": "GPU",
    "gpuClass": "standard"
  },
  "cells": [
    {
      "cell_type": "markdown",
      "metadata": {
        "id": "view-in-github",
        "colab_type": "text"
      },
      "source": [
        "<a href=\"https://colab.research.google.com/github/Felecort/TF-Rush/blob/master/src/9_Sequential.ipynb\" target=\"_parent\"><img src=\"https://colab.research.google.com/assets/colab-badge.svg\" alt=\"Open In Colab\"/></a>"
      ]
    },
    {
      "cell_type": "code",
      "execution_count": 1,
      "metadata": {
        "colab": {
          "base_uri": "https://localhost:8080/",
          "height": 35
        },
        "id": "ZrGJSdUbneog",
        "outputId": "d60d2fc5-53f6-4fac-da03-bf8c8419991a"
      },
      "outputs": [
        {
          "output_type": "execute_result",
          "data": {
            "text/plain": [
              "'2.8.2'"
            ],
            "application/vnd.google.colaboratory.intrinsic+json": {
              "type": "string"
            }
          },
          "metadata": {},
          "execution_count": 1
        }
      ],
      "source": [
        "%tensorflow_version 2.x\n",
        "from tensorflow import keras\n",
        "from tensorflow.keras.datasets import mnist\n",
        "from tensorflow.keras.utils import to_categorical\n",
        "from tensorflow.keras.layers import Dense, Input\n",
        "import tensorflow as tf\n",
        "import matplotlib.pyplot as plt\n",
        "import numpy as np\n",
        "tf.__version__"
      ]
    },
    {
      "cell_type": "markdown",
      "source": [
        "# Keras is already has layers tempalates\n",
        "\n"
      ],
      "metadata": {
        "id": "hNMtCA3qntQK"
      }
    },
    {
      "cell_type": "code",
      "source": [
        "model = keras.Sequential([\n",
        "                          Dense(128, activation=\"relu\"),\n",
        "                          Dense(10, activation=\"softmax\")\n",
        "])\n",
        "model.pop() # Delete last layer\n",
        "model.add(Dense(8, activation=\"linear\")) # Add new layer\n",
        "print(model.layers)\n"
      ],
      "metadata": {
        "colab": {
          "base_uri": "https://localhost:8080/"
        },
        "id": "lTbkCy9JnnWr",
        "outputId": "7ed03ce1-77b2-4318-8c44-682e8d05724a"
      },
      "execution_count": 2,
      "outputs": [
        {
          "output_type": "stream",
          "name": "stdout",
          "text": [
            "[<keras.layers.core.dense.Dense object at 0x7f92da8a1d90>, <keras.layers.core.dense.Dense object at 0x7f935b7b0c10>]\n"
          ]
        }
      ]
    },
    {
      "cell_type": "code",
      "source": [
        "model = keras.Sequential()\n",
        "model.add(Dense(128, activation=\"relu\", name=\"layer1\"))\n",
        "model.add(Dense(10, activation=\"softmax\", name=\"layer2\"))\n"
      ],
      "metadata": {
        "id": "lFwXBgb2o5zk"
      },
      "execution_count": 3,
      "outputs": []
    },
    {
      "cell_type": "markdown",
      "source": [
        "## We have access to the layers params"
      ],
      "metadata": {
        "id": "LfuKF4HSpxZT"
      }
    },
    {
      "cell_type": "code",
      "source": [
        "print(model.layers[0].weights)\n"
      ],
      "metadata": {
        "colab": {
          "base_uri": "https://localhost:8080/"
        },
        "id": "2vQ3kIbipsKt",
        "outputId": "808d43bf-e565-4466-9cd1-b7c6e2ffa0ed"
      },
      "execution_count": 4,
      "outputs": [
        {
          "output_type": "stream",
          "name": "stdout",
          "text": [
            "[]\n"
          ]
        }
      ]
    },
    {
      "cell_type": "code",
      "source": [
        "x = tf.random.uniform((1, 20), 0, 1)\n",
        "y = model(x)\n",
        "\n",
        "print(model.layers[0].weights)"
      ],
      "metadata": {
        "colab": {
          "base_uri": "https://localhost:8080/"
        },
        "id": "KtZN0z2vqBfW",
        "outputId": "ae2a887a-fb3d-45d6-d8ba-698cd778864f"
      },
      "execution_count": 5,
      "outputs": [
        {
          "output_type": "stream",
          "name": "stdout",
          "text": [
            "[<tf.Variable 'layer1/kernel:0' shape=(20, 128) dtype=float32, numpy=\n",
            "array([[-0.03030646, -0.04787664, -0.16864233, ..., -0.05429168,\n",
            "        -0.0649123 , -0.12733528],\n",
            "       [ 0.10868219,  0.03444125,  0.10151312, ...,  0.02209111,\n",
            "        -0.07614276,  0.19156018],\n",
            "       [-0.12960789,  0.11035329,  0.07582286, ...,  0.15606007,\n",
            "         0.12079194,  0.14710584],\n",
            "       ...,\n",
            "       [-0.14163247,  0.01032607,  0.12024012, ...,  0.12710217,\n",
            "         0.0968326 ,  0.01928815],\n",
            "       [-0.06877434, -0.05968075,  0.03002514, ..., -0.13473335,\n",
            "         0.081655  ,  0.03290351],\n",
            "       [-0.07068157, -0.01534009, -0.12617418, ..., -0.11438517,\n",
            "         0.03620125, -0.194934  ]], dtype=float32)>, <tf.Variable 'layer1/bias:0' shape=(128,) dtype=float32, numpy=\n",
            "array([0., 0., 0., 0., 0., 0., 0., 0., 0., 0., 0., 0., 0., 0., 0., 0., 0.,\n",
            "       0., 0., 0., 0., 0., 0., 0., 0., 0., 0., 0., 0., 0., 0., 0., 0., 0.,\n",
            "       0., 0., 0., 0., 0., 0., 0., 0., 0., 0., 0., 0., 0., 0., 0., 0., 0.,\n",
            "       0., 0., 0., 0., 0., 0., 0., 0., 0., 0., 0., 0., 0., 0., 0., 0., 0.,\n",
            "       0., 0., 0., 0., 0., 0., 0., 0., 0., 0., 0., 0., 0., 0., 0., 0., 0.,\n",
            "       0., 0., 0., 0., 0., 0., 0., 0., 0., 0., 0., 0., 0., 0., 0., 0., 0.,\n",
            "       0., 0., 0., 0., 0., 0., 0., 0., 0., 0., 0., 0., 0., 0., 0., 0., 0.,\n",
            "       0., 0., 0., 0., 0., 0., 0., 0., 0.], dtype=float32)>]\n"
          ]
        }
      ]
    },
    {
      "cell_type": "code",
      "source": [
        "print(model.weights)"
      ],
      "metadata": {
        "colab": {
          "base_uri": "https://localhost:8080/"
        },
        "id": "5VDuSHCsqKE6",
        "outputId": "4c53c25b-191d-44f5-f2d9-e34b4b96e9a6"
      },
      "execution_count": 6,
      "outputs": [
        {
          "output_type": "stream",
          "name": "stdout",
          "text": [
            "[<tf.Variable 'layer1/kernel:0' shape=(20, 128) dtype=float32, numpy=\n",
            "array([[-0.03030646, -0.04787664, -0.16864233, ..., -0.05429168,\n",
            "        -0.0649123 , -0.12733528],\n",
            "       [ 0.10868219,  0.03444125,  0.10151312, ...,  0.02209111,\n",
            "        -0.07614276,  0.19156018],\n",
            "       [-0.12960789,  0.11035329,  0.07582286, ...,  0.15606007,\n",
            "         0.12079194,  0.14710584],\n",
            "       ...,\n",
            "       [-0.14163247,  0.01032607,  0.12024012, ...,  0.12710217,\n",
            "         0.0968326 ,  0.01928815],\n",
            "       [-0.06877434, -0.05968075,  0.03002514, ..., -0.13473335,\n",
            "         0.081655  ,  0.03290351],\n",
            "       [-0.07068157, -0.01534009, -0.12617418, ..., -0.11438517,\n",
            "         0.03620125, -0.194934  ]], dtype=float32)>, <tf.Variable 'layer1/bias:0' shape=(128,) dtype=float32, numpy=\n",
            "array([0., 0., 0., 0., 0., 0., 0., 0., 0., 0., 0., 0., 0., 0., 0., 0., 0.,\n",
            "       0., 0., 0., 0., 0., 0., 0., 0., 0., 0., 0., 0., 0., 0., 0., 0., 0.,\n",
            "       0., 0., 0., 0., 0., 0., 0., 0., 0., 0., 0., 0., 0., 0., 0., 0., 0.,\n",
            "       0., 0., 0., 0., 0., 0., 0., 0., 0., 0., 0., 0., 0., 0., 0., 0., 0.,\n",
            "       0., 0., 0., 0., 0., 0., 0., 0., 0., 0., 0., 0., 0., 0., 0., 0., 0.,\n",
            "       0., 0., 0., 0., 0., 0., 0., 0., 0., 0., 0., 0., 0., 0., 0., 0., 0.,\n",
            "       0., 0., 0., 0., 0., 0., 0., 0., 0., 0., 0., 0., 0., 0., 0., 0., 0.,\n",
            "       0., 0., 0., 0., 0., 0., 0., 0., 0.], dtype=float32)>, <tf.Variable 'layer2/kernel:0' shape=(128, 10) dtype=float32, numpy=\n",
            "array([[ 0.08400185,  0.00948457,  0.12498863, ..., -0.1431615 ,\n",
            "         0.0138215 ,  0.18322878],\n",
            "       [ 0.14580177, -0.02572241,  0.20692398, ..., -0.16298208,\n",
            "        -0.02673648, -0.20532006],\n",
            "       [ 0.18187515, -0.1859151 ,  0.20193465, ...,  0.05430312,\n",
            "        -0.11075176,  0.18451361],\n",
            "       ...,\n",
            "       [ 0.15532167,  0.19214587,  0.10175769, ..., -0.00175628,\n",
            "         0.16545106,  0.1445799 ],\n",
            "       [ 0.07727687, -0.09770857,  0.15046887, ...,  0.03402068,\n",
            "         0.13189887,  0.17930277],\n",
            "       [-0.07040316, -0.076327  ,  0.16669478, ...,  0.16530226,\n",
            "        -0.0959999 ,  0.1490226 ]], dtype=float32)>, <tf.Variable 'layer2/bias:0' shape=(10,) dtype=float32, numpy=array([0., 0., 0., 0., 0., 0., 0., 0., 0., 0.], dtype=float32)>]\n"
          ]
        }
      ]
    },
    {
      "cell_type": "code",
      "source": [
        "print(model.summary())"
      ],
      "metadata": {
        "colab": {
          "base_uri": "https://localhost:8080/"
        },
        "id": "osYVYlGgqU7d",
        "outputId": "7c3254e9-6fab-4542-a18d-b3ce73b1da09"
      },
      "execution_count": 7,
      "outputs": [
        {
          "output_type": "stream",
          "name": "stdout",
          "text": [
            "Model: \"sequential_1\"\n",
            "_________________________________________________________________\n",
            " Layer (type)                Output Shape              Param #   \n",
            "=================================================================\n",
            " layer1 (Dense)              (1, 128)                  2688      \n",
            "                                                                 \n",
            " layer2 (Dense)              (1, 10)                   1290      \n",
            "                                                                 \n",
            "=================================================================\n",
            "Total params: 3,978\n",
            "Trainable params: 3,978\n",
            "Non-trainable params: 0\n",
            "_________________________________________________________________\n",
            "None\n"
          ]
        }
      ]
    },
    {
      "cell_type": "markdown",
      "source": [
        "# Supportive layers\n",
        "\n",
        "Immideately initialize and determinate weights, weights shape respectively\n",
        "\n",
        "Input data: [batch size; input shape]"
      ],
      "metadata": {
        "id": "FuZ3QRttrJTv"
      }
    },
    {
      "cell_type": "code",
      "source": [
        "\n",
        "model = keras.Sequential([\n",
        "                          Input(shape=(784, )), # Equal to \n",
        "                          # Dense(128, activation=\"relu\", input_shape=(784, )),\n",
        "                          Dense(128, activation=\"relu\", name=\"hidden1\"),\n",
        "                          Dense(10, activation=\"softmax\", name=\"output\")\n",
        "])\n",
        "\n",
        "print(model.weights)"
      ],
      "metadata": {
        "colab": {
          "base_uri": "https://localhost:8080/"
        },
        "id": "dm8RL0nqqW65",
        "outputId": "06c568fd-ce21-4f18-a697-5ba11d96d6be"
      },
      "execution_count": 12,
      "outputs": [
        {
          "output_type": "stream",
          "name": "stdout",
          "text": [
            "[<tf.Variable 'hidden1/kernel:0' shape=(784, 128) dtype=float32, numpy=\n",
            "array([[-0.00122373,  0.02327436, -0.07188292, ..., -0.05772682,\n",
            "         0.06942188, -0.05566125],\n",
            "       [-0.02977773,  0.00383233, -0.00581097, ...,  0.07494224,\n",
            "        -0.03985264,  0.01526713],\n",
            "       [-0.04757547, -0.07194594, -0.00269969, ...,  0.03477931,\n",
            "        -0.01548868,  0.04811309],\n",
            "       ...,\n",
            "       [ 0.06149478, -0.05570666,  0.05310268, ..., -0.05407863,\n",
            "        -0.05632148,  0.00071148],\n",
            "       [ 0.0729359 , -0.05247713,  0.0605242 , ...,  0.05776425,\n",
            "         0.06266572, -0.00417411],\n",
            "       [ 0.00259659,  0.02389017, -0.01268051, ..., -0.0780507 ,\n",
            "        -0.03076033,  0.02156773]], dtype=float32)>, <tf.Variable 'hidden1/bias:0' shape=(128,) dtype=float32, numpy=\n",
            "array([0., 0., 0., 0., 0., 0., 0., 0., 0., 0., 0., 0., 0., 0., 0., 0., 0.,\n",
            "       0., 0., 0., 0., 0., 0., 0., 0., 0., 0., 0., 0., 0., 0., 0., 0., 0.,\n",
            "       0., 0., 0., 0., 0., 0., 0., 0., 0., 0., 0., 0., 0., 0., 0., 0., 0.,\n",
            "       0., 0., 0., 0., 0., 0., 0., 0., 0., 0., 0., 0., 0., 0., 0., 0., 0.,\n",
            "       0., 0., 0., 0., 0., 0., 0., 0., 0., 0., 0., 0., 0., 0., 0., 0., 0.,\n",
            "       0., 0., 0., 0., 0., 0., 0., 0., 0., 0., 0., 0., 0., 0., 0., 0., 0.,\n",
            "       0., 0., 0., 0., 0., 0., 0., 0., 0., 0., 0., 0., 0., 0., 0., 0., 0.,\n",
            "       0., 0., 0., 0., 0., 0., 0., 0., 0.], dtype=float32)>, <tf.Variable 'output/kernel:0' shape=(128, 10) dtype=float32, numpy=\n",
            "array([[ 0.19064273,  0.18911149,  0.12375642, ..., -0.07348123,\n",
            "        -0.00772208,  0.08487363],\n",
            "       [-0.08577558, -0.13225606,  0.17535178, ..., -0.18075885,\n",
            "         0.19598268,  0.06598882],\n",
            "       [-0.13827932,  0.13014533,  0.16297765, ..., -0.00765397,\n",
            "         0.1690088 , -0.06397255],\n",
            "       ...,\n",
            "       [ 0.13629524,  0.19731708,  0.09489135, ..., -0.06292245,\n",
            "         0.04340623, -0.18823534],\n",
            "       [-0.01599911, -0.01205418,  0.16918038, ...,  0.15875979,\n",
            "        -0.03771372, -0.05456726],\n",
            "       [-0.07140727,  0.18045454,  0.1674078 , ...,  0.08330785,\n",
            "         0.06212653,  0.13644277]], dtype=float32)>, <tf.Variable 'output/bias:0' shape=(10,) dtype=float32, numpy=array([0., 0., 0., 0., 0., 0., 0., 0., 0., 0.], dtype=float32)>]\n"
          ]
        }
      ]
    },
    {
      "cell_type": "code",
      "source": [
        "(x_train, y_train), (x_test, y_test) = mnist.load_data()\n",
        "\n",
        "x_train = x_train / 255\n",
        "x_test = x_test / 255\n",
        "\n",
        "x_train = tf.reshape(tf.cast(x_train, tf.float32), [-1, 28 * 28])\n",
        "x_test = tf.reshape(tf.cast(x_test, tf.float32), [-1, 28 * 28])\n",
        "\n",
        "y_train = to_categorical(y_train, 10)\n",
        "y_test_cat = to_categorical(y_test, 10)"
      ],
      "metadata": {
        "id": "5AgLUv-_R5s6",
        "colab": {
          "base_uri": "https://localhost:8080/"
        },
        "outputId": "fdbb8267-fb3f-4a7f-cce7-25589853c5f3"
      },
      "execution_count": 9,
      "outputs": [
        {
          "output_type": "stream",
          "name": "stdout",
          "text": [
            "Downloading data from https://storage.googleapis.com/tensorflow/tf-keras-datasets/mnist.npz\n",
            "11493376/11490434 [==============================] - 0s 0us/step\n",
            "11501568/11490434 [==============================] - 0s 0us/step\n"
          ]
        }
      ]
    },
    {
      "cell_type": "code",
      "source": [
        "model.compile(optimizer=\"Adam\",\n",
        "              loss=\"categorical_crossentropy\",\n",
        "              metrics=[\"accuracy\"])"
      ],
      "metadata": {
        "id": "VyTgQ7k8snc1"
      },
      "execution_count": 13,
      "outputs": []
    },
    {
      "cell_type": "code",
      "source": [
        "model.fit(x_train, y_train, batch_size=32, epochs=5)"
      ],
      "metadata": {
        "colab": {
          "base_uri": "https://localhost:8080/"
        },
        "id": "VVjWSyfqs3-y",
        "outputId": "394d8f8c-e974-4e21-a173-4e7a51942379"
      },
      "execution_count": 14,
      "outputs": [
        {
          "output_type": "stream",
          "name": "stdout",
          "text": [
            "Epoch 1/5\n",
            "1875/1875 [==============================] - 5s 2ms/step - loss: 0.2611 - accuracy: 0.9245\n",
            "Epoch 2/5\n",
            "1875/1875 [==============================] - 4s 2ms/step - loss: 0.1167 - accuracy: 0.9649\n",
            "Epoch 3/5\n",
            "1875/1875 [==============================] - 4s 2ms/step - loss: 0.0801 - accuracy: 0.9761\n",
            "Epoch 4/5\n",
            "1875/1875 [==============================] - 4s 2ms/step - loss: 0.0608 - accuracy: 0.9812\n",
            "Epoch 5/5\n",
            "1875/1875 [==============================] - 4s 2ms/step - loss: 0.0468 - accuracy: 0.9857\n"
          ]
        },
        {
          "output_type": "execute_result",
          "data": {
            "text/plain": [
              "<keras.callbacks.History at 0x7f925e177a50>"
            ]
          },
          "metadata": {},
          "execution_count": 14
        }
      ]
    },
    {
      "cell_type": "code",
      "source": [
        "print(model.evaluate(x_test, y_test_cat))"
      ],
      "metadata": {
        "colab": {
          "base_uri": "https://localhost:8080/"
        },
        "id": "m7A5P7nctVaM",
        "outputId": "f03a41f4-f1e8-4a40-e642-35bf366eb5e3"
      },
      "execution_count": 15,
      "outputs": [
        {
          "output_type": "stream",
          "name": "stdout",
          "text": [
            "313/313 [==============================] - 1s 4ms/step - loss: 0.0805 - accuracy: 0.9773\n",
            "[0.0805450826883316, 0.9772999882698059]\n"
          ]
        }
      ]
    },
    {
      "cell_type": "markdown",
      "source": [
        "# Flexible models\n",
        "\n",
        "change configuration, but not create new model\n"
      ],
      "metadata": {
        "id": "umA60HzuvOXE"
      }
    },
    {
      "cell_type": "code",
      "source": [
        "# After train (already trained)\n",
        "model_ex = keras.Model(inputs=model.inputs,\n",
        "                       outputs=[layer.output for layer in model.layers])\n"
      ],
      "metadata": {
        "id": "B2qKu0omvP73"
      },
      "execution_count": 18,
      "outputs": []
    },
    {
      "cell_type": "code",
      "source": [
        "x = tf.expand_dims(x_test[0], axis=0)\n",
        "y2 = model_ex(x)\n",
        "y = model(x)\n",
        "print(y, y2, sep=\"\\n\\n\")\n",
        "# y[0] == y2[1]"
      ],
      "metadata": {
        "colab": {
          "base_uri": "https://localhost:8080/"
        },
        "id": "oEMTa6pFv8ZM",
        "outputId": "7c68a7f0-4ed4-4fc1-bdbe-6a56fb0aa25e"
      },
      "execution_count": 21,
      "outputs": [
        {
          "output_type": "stream",
          "name": "stdout",
          "text": [
            "tf.Tensor(\n",
            "[[7.20584410e-08 5.54823354e-10 3.22896562e-06 9.06442583e-05\n",
            "  3.61171271e-12 5.12357401e-09 1.67124370e-11 9.99905586e-01\n",
            "  3.16309354e-07 1.12009566e-07]], shape=(1, 10), dtype=float32)\n",
            "\n",
            "[<tf.Tensor: shape=(1, 128), dtype=float32, numpy=\n",
            "array([[0.        , 0.        , 0.        , 0.        , 1.0687776 ,\n",
            "        0.        , 0.        , 0.        , 0.        , 1.5133398 ,\n",
            "        0.95524055, 0.        , 0.        , 0.        , 0.34267488,\n",
            "        0.        , 0.        , 1.6497427 , 0.38069278, 0.        ,\n",
            "        2.6364276 , 3.6302347 , 2.6473906 , 0.        , 2.7112021 ,\n",
            "        0.        , 1.2923433 , 2.0802183 , 0.16394658, 0.        ,\n",
            "        1.6131206 , 0.5274468 , 1.9409213 , 3.8240852 , 0.        ,\n",
            "        3.1693575 , 0.41595435, 0.7495761 , 0.8528255 , 1.9411157 ,\n",
            "        0.        , 0.        , 1.7412995 , 0.25368175, 1.2710446 ,\n",
            "        0.42327443, 0.70280486, 1.0355598 , 0.        , 0.24885409,\n",
            "        1.9035153 , 0.        , 2.1898816 , 1.182647  , 1.4052373 ,\n",
            "        0.84624594, 0.        , 1.0109491 , 0.        , 0.        ,\n",
            "        0.4640301 , 2.683856  , 0.        , 0.        , 0.        ,\n",
            "        0.99118435, 0.        , 2.4054923 , 0.        , 1.6655252 ,\n",
            "        0.        , 0.        , 0.        , 0.        , 0.        ,\n",
            "        0.        , 0.        , 0.        , 0.        , 1.0469387 ,\n",
            "        4.7811265 , 0.        , 0.        , 0.        , 0.        ,\n",
            "        0.        , 1.6210837 , 1.0903258 , 0.44890368, 0.        ,\n",
            "        1.8290508 , 0.7202517 , 1.0936017 , 0.        , 0.        ,\n",
            "        0.        , 1.085798  , 0.        , 0.        , 2.8329313 ,\n",
            "        0.        , 0.        , 1.1014236 , 0.        , 4.201545  ,\n",
            "        2.1369548 , 3.8198411 , 0.        , 0.        , 0.        ,\n",
            "        3.8420637 , 0.1113217 , 0.        , 0.        , 0.6119388 ,\n",
            "        0.02540961, 0.        , 0.5794443 , 0.        , 0.809978  ,\n",
            "        0.        , 1.3303121 , 0.        , 0.7428465 , 0.        ,\n",
            "        2.0446777 , 2.7650855 , 0.        ]], dtype=float32)>, <tf.Tensor: shape=(1, 10), dtype=float32, numpy=\n",
            "array([[7.20584410e-08, 5.54823354e-10, 3.22896562e-06, 9.06442583e-05,\n",
            "        3.61171271e-12, 5.12357401e-09, 1.67124370e-11, 9.99905586e-01,\n",
            "        3.16309354e-07, 1.12009566e-07]], dtype=float32)>]\n"
          ]
        }
      ]
    },
    {
      "cell_type": "code",
      "source": [
        "model_ex.summary()"
      ],
      "metadata": {
        "colab": {
          "base_uri": "https://localhost:8080/"
        },
        "id": "ImF-pPNfwOsS",
        "outputId": "e3d54a9e-844b-47a8-d2f4-d281f94d1223"
      },
      "execution_count": 22,
      "outputs": [
        {
          "output_type": "stream",
          "name": "stdout",
          "text": [
            "Model: \"model_1\"\n",
            "_________________________________________________________________\n",
            " Layer (type)                Output Shape              Param #   \n",
            "=================================================================\n",
            " input_2 (InputLayer)        [(None, 784)]             0         \n",
            "                                                                 \n",
            " hidden1 (Dense)             (None, 128)               100480    \n",
            "                                                                 \n",
            " output (Dense)              (None, 10)                1290      \n",
            "                                                                 \n",
            "=================================================================\n",
            "Total params: 101,770\n",
            "Trainable params: 101,770\n",
            "Non-trainable params: 0\n",
            "_________________________________________________________________\n"
          ]
        }
      ]
    },
    {
      "cell_type": "markdown",
      "source": [
        "# Create new model based prew model\n",
        "\n",
        "Add new layer to model"
      ],
      "metadata": {
        "id": "BhYmymUHxu_3"
      }
    },
    {
      "cell_type": "code",
      "source": [
        "model_ex = keras.Sequential([\n",
        "                             model,\n",
        "                             Dense(10, activation=\"tanh\")\n",
        "])\n",
        "\n",
        "model.trainable = False\n",
        "# Or model.layers[0].trainable = False...\n"
      ],
      "metadata": {
        "id": "3_715uclxJ2Q"
      },
      "execution_count": 23,
      "outputs": []
    },
    {
      "cell_type": "code",
      "source": [
        "model_ex.compile(optimizer=\"adam\",\n",
        "                 loss=\"categorical_crossentropy\",\n",
        "                 metrics=[\"accuracy\"])"
      ],
      "metadata": {
        "id": "knQUp6fXyM4f"
      },
      "execution_count": 26,
      "outputs": []
    },
    {
      "cell_type": "code",
      "source": [
        "model_ex.fit(x_train, y_train, batch_size=32, epochs=3)"
      ],
      "metadata": {
        "colab": {
          "base_uri": "https://localhost:8080/"
        },
        "id": "WM_ex4qJycH4",
        "outputId": "f105464f-63f6-4e0d-995f-0baf6d524dba"
      },
      "execution_count": 27,
      "outputs": [
        {
          "output_type": "stream",
          "name": "stdout",
          "text": [
            "Epoch 1/3\n",
            "1875/1875 [==============================] - 5s 2ms/step - loss: 7.3739 - accuracy: 0.1940\n",
            "Epoch 2/3\n",
            "1875/1875 [==============================] - 4s 2ms/step - loss: 8.0479 - accuracy: 0.1886\n",
            "Epoch 3/3\n",
            "1875/1875 [==============================] - 4s 2ms/step - loss: 7.3858 - accuracy: 0.2134\n"
          ]
        },
        {
          "output_type": "execute_result",
          "data": {
            "text/plain": [
              "<keras.callbacks.History at 0x7f91f86b7790>"
            ]
          },
          "metadata": {},
          "execution_count": 27
        }
      ]
    },
    {
      "cell_type": "code",
      "source": [
        ""
      ],
      "metadata": {
        "id": "7qNjve1Syi3t"
      },
      "execution_count": null,
      "outputs": []
    }
  ]
}