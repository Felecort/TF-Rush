{
  "nbformat": 4,
  "nbformat_minor": 0,
  "metadata": {
    "colab": {
      "name": "8_Keras_API",
      "provenance": [],
      "collapsed_sections": [],
      "authorship_tag": "ABX9TyNLQzk+gmijx398fStHWG8Q"
    },
    "kernelspec": {
      "name": "python3",
      "display_name": "Python 3"
    },
    "language_info": {
      "name": "python"
    },
    "accelerator": "GPU",
    "gpuClass": "standard"
  },
  "cells": [
    {
      "cell_type": "code",
      "execution_count": null,
      "metadata": {
        "colab": {
          "base_uri": "https://localhost:8080/",
          "height": 35
        },
        "id": "NUFmdELKpVvR",
        "outputId": "c94551c1-ea73-4785-ec35-4b93efd877f8"
      },
      "outputs": [
        {
          "output_type": "execute_result",
          "data": {
            "text/plain": [
              "'2.8.2'"
            ],
            "application/vnd.google.colaboratory.intrinsic+json": {
              "type": "string"
            }
          },
          "metadata": {},
          "execution_count": 29
        }
      ],
      "source": [
        "%tensorflow_version 2.x\n",
        "from tensorflow.keras.datasets import mnist\n",
        "from tensorflow.keras.utils import to_categorical\n",
        "import tensorflow as tf\n",
        "import matplotlib.pyplot as plt\n",
        "import numpy as np\n",
        "tf.__version__\n"
      ]
    },
    {
      "cell_type": "markdown",
      "source": [
        "# Create one Dense layer"
      ],
      "metadata": {
        "id": "STzQQqJSyuD1"
      }
    },
    {
      "cell_type": "code",
      "source": [
        "# We've received DenseLayer().weights, trainable_weights, non_trainable_weights\n",
        "class DenseLayer(tf.keras.layers.Layer):\n",
        "    def __init__(self, units=1):\n",
        "        print(\"init\")\n",
        "        super().__init__()\n",
        "        # Neurons number \n",
        "        self.units = units\n",
        "\n",
        "    # Only one time and before call\n",
        "    def build(self, input_shape):\n",
        "        print(\"build\")\n",
        "        self.w = self.add_weight(shape=(input_shape[-1], self.units),\n",
        "                                 initializer=\"random_normal\",\n",
        "                                 trainable=True)\n",
        "        self.b = self.add_weight(shape=(self.units,),\n",
        "                                 initializer=\"zeros\",\n",
        "                                 trainable=True)\n",
        "    \n",
        "    # After built\n",
        "    def call(self, inputs):\n",
        "        print(\"call\")\n",
        "        # Add own loss function\n",
        "        regular = tf.reduce_mean(tf.square(self.w))\n",
        "        self.add_loss(regular)\n",
        "        # Add own metric function\n",
        "        self.add_metric(regular, name=\"mean square weights\")\n",
        "        return tf.matmul(inputs, self.w) + self.b\n",
        "\n",
        "print(\"prev init\")\n",
        "layer1 = DenseLayer(10)\n",
        "\n",
        "print(\"prev call\")\n",
        "# Shape = [batch_size, data]\n",
        "y = layer1(tf.constant([[1., 2., 3.]])) # Build, call\n",
        "y = layer1(tf.constant([[1., 2., 3.]])) # Call\n",
        "y = layer1(tf.constant([[1., 2., 3.]])) # Call\n",
        "print(y)"
      ],
      "metadata": {
        "colab": {
          "base_uri": "https://localhost:8080/"
        },
        "id": "wDPvd0U4pdyg",
        "outputId": "76cb18fc-ac94-49eb-8631-5c1ff18d372f"
      },
      "execution_count": null,
      "outputs": [
        {
          "output_type": "stream",
          "name": "stdout",
          "text": [
            "prev init\n",
            "init\n",
            "prev call\n",
            "build\n",
            "call\n",
            "call\n",
            "call\n",
            "tf.Tensor(\n",
            "[[ 0.04388597 -0.05026485 -0.02006444  0.02260087 -0.05419174  0.3088227\n",
            "  -0.00963814 -0.02691636 -0.2214514   0.19981988]], shape=(1, 10), dtype=float32)\n"
          ]
        }
      ]
    },
    {
      "cell_type": "markdown",
      "source": [
        "# Create model"
      ],
      "metadata": {
        "id": "eHS5FyGKyxKn"
      }
    },
    {
      "cell_type": "code",
      "source": [
        "class NeuralNetwork(tf.keras.Model):\n",
        "    def __init__(self):\n",
        "        super().__init__()\n",
        "        # Hidden layer\n",
        "        self.layer_1 = DenseLayer(128)\n",
        "        # Output layer\n",
        "        self.layer_2 = DenseLayer(10)\n",
        "\n",
        "    def call(self, inputs):\n",
        "        x = self.layer_1(inputs)\n",
        "        x = tf.nn.relu(x)\n",
        "        x = self.layer_2(x)\n",
        "        x = tf.nn.softmax(x)\n",
        "        return x\n"
      ],
      "metadata": {
        "id": "jIhGGWgzsQAZ"
      },
      "execution_count": null,
      "outputs": []
    },
    {
      "cell_type": "code",
      "source": [
        "model = NeuralNetwork()\n",
        "model.compile(optimizer=\"Adam\", # Default params\n",
        "              loss=\"categorical_crossentropy\", # Default params\n",
        "              metrics=[\"accuracy\"])\n",
        "# Equal to:\n",
        "# model.compile(optimizer=tf.optimizers.Adam(learning_rate=0.001), # Default params\n",
        "#               loss=tf.losses.categorical_crossentropy, # Default params\n",
        "#               metrics=[\"accuracy\"])"
      ],
      "metadata": {
        "colab": {
          "base_uri": "https://localhost:8080/"
        },
        "id": "pELDJiihvJ5h",
        "outputId": "cb88cb84-594d-4f78-8917-f67f166ed79f"
      },
      "execution_count": null,
      "outputs": [
        {
          "output_type": "stream",
          "name": "stdout",
          "text": [
            "init\n",
            "init\n"
          ]
        }
      ]
    },
    {
      "cell_type": "markdown",
      "source": [
        "# Preparing data"
      ],
      "metadata": {
        "id": "KeYe0vlWypM5"
      }
    },
    {
      "cell_type": "code",
      "source": [
        "(x_train, y_train), (x_test, y_test) = mnist.load_data()\n",
        "\n",
        "x_train = x_train / 255\n",
        "x_test = x_test / 255\n",
        "\n",
        "x_train = tf.reshape(tf.cast(x_train, tf.float32), [-1, 28 * 28])\n",
        "x_test = tf.reshape(tf.cast(x_test, tf.float32), [-1, 28 * 28])\n",
        "\n",
        "y_train = to_categorical(y_train, 10)\n",
        "y_test_cat = to_categorical(y_test, 10)"
      ],
      "metadata": {
        "id": "5AgLUv-_R5s6"
      },
      "execution_count": null,
      "outputs": []
    },
    {
      "cell_type": "markdown",
      "source": [
        "# Fit model"
      ],
      "metadata": {
        "id": "FvQJ5HgzyriO"
      }
    },
    {
      "cell_type": "code",
      "source": [
        "# Loss = categorical_enthropy + regular\n",
        "# Two metrict: acc and our own\n",
        "model.fit(x_train, y_train, batch_size=32, epochs=5)\n"
      ],
      "metadata": {
        "colab": {
          "base_uri": "https://localhost:8080/"
        },
        "id": "y3UA5PKqxG4B",
        "outputId": "b40ea834-0bb6-4c77-e9a6-e1bcfe79724c"
      },
      "execution_count": null,
      "outputs": [
        {
          "output_type": "stream",
          "name": "stdout",
          "text": [
            "Epoch 1/5\n",
            "build\n",
            "call\n",
            "build\n",
            "call\n",
            "call\n",
            "call\n",
            "1875/1875 [==============================] - 6s 3ms/step - loss: 0.3122 - accuracy: 0.9154 - mean square weights: 0.0098\n",
            "Epoch 2/5\n",
            "1875/1875 [==============================] - 5s 3ms/step - loss: 0.1570 - accuracy: 0.9613 - mean square weights: 0.0159\n",
            "Epoch 3/5\n",
            "1875/1875 [==============================] - 7s 4ms/step - loss: 0.1211 - accuracy: 0.9725 - mean square weights: 0.0191\n",
            "Epoch 4/5\n",
            "1875/1875 [==============================] - 5s 3ms/step - loss: 0.1050 - accuracy: 0.9774 - mean square weights: 0.0206\n",
            "Epoch 5/5\n",
            "1875/1875 [==============================] - 5s 2ms/step - loss: 0.0940 - accuracy: 0.9817 - mean square weights: 0.0211\n"
          ]
        },
        {
          "output_type": "execute_result",
          "data": {
            "text/plain": [
              "<keras.callbacks.History at 0x7f201f798d50>"
            ]
          },
          "metadata": {},
          "execution_count": 34
        }
      ]
    },
    {
      "cell_type": "code",
      "source": [
        "print(model.evaluate(x_test, y_test_cat))"
      ],
      "metadata": {
        "colab": {
          "base_uri": "https://localhost:8080/"
        },
        "id": "YXZHKNE6xW16",
        "outputId": "d0fb93da-4e0e-4a88-c346-2da8ea829302"
      },
      "execution_count": null,
      "outputs": [
        {
          "output_type": "stream",
          "name": "stdout",
          "text": [
            "call\n",
            "call\n",
            "313/313 [==============================] - 1s 3ms/step - loss: 0.1093 - accuracy: 0.9763 - mean square weights: 0.0211\n",
            "[0.10931607335805893, 0.9763000011444092, 0.021097995340824127, 0.021097995340824127]\n"
          ]
        }
      ]
    }
  ]
}