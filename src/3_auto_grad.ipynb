{
  "nbformat": 4,
  "nbformat_minor": 0,
  "metadata": {
    "colab": {
      "name": "3_auto_grad",
      "provenance": [],
      "collapsed_sections": [],
      "authorship_tag": "ABX9TyMZub38gu848WJlUs4YCvdp"
    },
    "kernelspec": {
      "name": "python3",
      "display_name": "Python 3"
    },
    "language_info": {
      "name": "python"
    }
  },
  "cells": [
    {
      "cell_type": "code",
      "execution_count": null,
      "metadata": {
        "colab": {
          "base_uri": "https://localhost:8080/",
          "height": 35
        },
        "id": "kNIF4J6JtyJf",
        "outputId": "43a287d0-ec93-4f6b-9c73-90169e879336"
      },
      "outputs": [
        {
          "output_type": "execute_result",
          "data": {
            "text/plain": [
              "'2.8.2'"
            ],
            "application/vnd.google.colaboratory.intrinsic+json": {
              "type": "string"
            }
          },
          "metadata": {},
          "execution_count": 5
        }
      ],
      "source": [
        "%tensorflow_version 2.x \n",
        "import tensorflow as tf\n",
        "import numpy as np\n",
        "tf.__version__\n"
      ]
    },
    {
      "cell_type": "code",
      "source": [
        "w = tf.Variable(tf.random.normal((3, 2)))\n",
        "b = tf.Variable(tf.zeros(2, dtype=tf.float32))\n",
        "x = tf.Variable([[-2.0, 1.0, 3.0]])"
      ],
      "metadata": {
        "id": "ZUFQNyxwt4g_"
      },
      "execution_count": null,
      "outputs": []
    },
    {
      "cell_type": "markdown",
      "source": [
        "# TF calculate derivative only for variables"
      ],
      "metadata": {
        "id": "oDUXXSV0vq-W"
      }
    },
    {
      "cell_type": "code",
      "source": [
        "with tf.GradientTape() as tape:\n",
        "    y = x @ w + b\n",
        "    loss = tf.reduce_mean(y ** 2)\n",
        "\n",
        "df = tape.gradient(loss, [w, b])\n",
        "print(df[0])\n",
        "print(df[1])"
      ],
      "metadata": {
        "colab": {
          "base_uri": "https://localhost:8080/"
        },
        "id": "jCLHWWOXuIYt",
        "outputId": "2aee105a-9ca2-476b-fb7e-e0b03e2dc98f"
      },
      "execution_count": null,
      "outputs": [
        {
          "output_type": "stream",
          "name": "stdout",
          "text": [
            "tf.Tensor(\n",
            "[[-1.9411461   4.4350147 ]\n",
            " [ 0.97057307 -2.2175074 ]\n",
            " [ 2.9117193  -6.652522  ]], shape=(3, 2), dtype=float32)\n",
            "tf.Tensor([ 0.97057307 -2.2175074 ], shape=(2,), dtype=float32)\n"
          ]
        }
      ]
    },
    {
      "cell_type": "code",
      "source": [
        "x = tf.Variable(0, dtype=tf.float32)\n",
        "b = tf.constant(1.5)\n",
        "\n",
        "with tf.GradientTape() as tape:\n",
        "    f = (x + b) ** 2 + (2 * b)\n",
        "\n",
        "df = tape.gradient(f, [x, b])\n",
        "print(df[0], df[1], sep=\"\\n\\n\")"
      ],
      "metadata": {
        "colab": {
          "base_uri": "https://localhost:8080/"
        },
        "id": "J265If_puUkH",
        "outputId": "91cd6749-d737-498d-a1b2-e923ba2bbdf3"
      },
      "execution_count": null,
      "outputs": [
        {
          "output_type": "stream",
          "name": "stdout",
          "text": [
            "tf.Tensor(3.0, shape=(), dtype=float32)\n",
            "\n",
            "None\n"
          ]
        }
      ]
    },
    {
      "cell_type": "markdown",
      "source": [
        "# We can lock let TF calculate derivative"
      ],
      "metadata": {
        "id": "bfsGiSS9v1rn"
      }
    },
    {
      "cell_type": "code",
      "source": [
        "x = tf.Variable(0, dtype=tf.float32, trainable=False)\n",
        "b = tf.constant(1.5)\n",
        "\n",
        "with tf.GradientTape() as tape:\n",
        "    f = (x + b) ** 2 + (2 * b)\n",
        "\n",
        "df = tape.gradient(f, [x, b])\n",
        "print(df[0], df[1], sep=\"\\n\\n\")"
      ],
      "metadata": {
        "colab": {
          "base_uri": "https://localhost:8080/"
        },
        "id": "nLVQraXMvd5S",
        "outputId": "3e66aa99-6000-43e3-b75c-6ee8164f2d5e"
      },
      "execution_count": null,
      "outputs": [
        {
          "output_type": "stream",
          "name": "stdout",
          "text": [
            "None\n",
            "\n",
            "None\n"
          ]
        }
      ]
    },
    {
      "cell_type": "markdown",
      "source": [
        "# Or we can offf all the calculation of grad"
      ],
      "metadata": {
        "id": "oqRABIZ-waTq"
      }
    },
    {
      "cell_type": "code",
      "source": [
        "\n",
        "with tf.GradientTape(watch_accessed_variables=False) as tape:\n",
        "    f = (x + b) ** 2 + (2 * b)\n",
        "\n",
        "df = tape.gradient(f, [x, b])\n",
        "print(df[0], df[1], sep=\"\\n\\n\")"
      ],
      "metadata": {
        "colab": {
          "base_uri": "https://localhost:8080/"
        },
        "id": "samVDmwev9a3",
        "outputId": "d80bf67c-1304-4d5e-a275-a8ec80580ea9"
      },
      "execution_count": null,
      "outputs": [
        {
          "output_type": "stream",
          "name": "stdout",
          "text": [
            "None\n",
            "\n",
            "None\n"
          ]
        }
      ]
    },
    {
      "cell_type": "markdown",
      "source": [
        "# But be able to clearly define what ver we need to watch"
      ],
      "metadata": {
        "id": "x1EdqFA8wmtb"
      }
    },
    {
      "cell_type": "code",
      "source": [
        "\n",
        "with tf.GradientTape(watch_accessed_variables=False) as tape:\n",
        "    tape.watch(x)\n",
        "    f = (x + b) ** 2 + (2 * b)\n",
        "\n",
        "df = tape.gradient(f, [x, b])\n",
        "print(df[0], df[1], sep=\"\\n\\n\")"
      ],
      "metadata": {
        "colab": {
          "base_uri": "https://localhost:8080/"
        },
        "id": "8rroVAchwlpc",
        "outputId": "90d65d9d-ba5e-4c16-c8a5-e79574f005be"
      },
      "execution_count": null,
      "outputs": [
        {
          "output_type": "stream",
          "name": "stdout",
          "text": [
            "tf.Tensor(3.0, shape=(), dtype=float32)\n",
            "\n",
            "None\n"
          ]
        }
      ]
    },
    {
      "cell_type": "code",
      "source": [
        ""
      ],
      "metadata": {
        "id": "R6hHDUzywxP3"
      },
      "execution_count": null,
      "outputs": []
    }
  ]
}